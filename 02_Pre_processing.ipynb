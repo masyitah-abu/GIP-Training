{
  "nbformat": 4,
  "nbformat_minor": 0,
  "metadata": {
    "colab": {
      "provenance": [],
      "authorship_tag": "ABX9TyOLOve9cZcx/ww36CupNR0r",
      "include_colab_link": true
    },
    "kernelspec": {
      "name": "python3",
      "display_name": "Python 3"
    },
    "language_info": {
      "name": "python"
    }
  },
  "cells": [
    {
      "cell_type": "markdown",
      "metadata": {
        "id": "view-in-github",
        "colab_type": "text"
      },
      "source": [
        "<a href=\"https://colab.research.google.com/github/masyitah-abu/GIP-Training/blob/main/02_Pre_processing.ipynb\" target=\"_parent\"><img src=\"https://colab.research.google.com/assets/colab-badge.svg\" alt=\"Open In Colab\"/></a>"
      ]
    },
    {
      "cell_type": "markdown",
      "source": [
        "#Pre-processing\n",
        "For data analysis pre-processing process frequently use for:\n",
        "- missing values\n",
        "- Normalization\n",
        "\n",
        "https://www.kdnuggets.com/2020/07/easy-guide-data-preprocessing-python.html"
      ],
      "metadata": {
        "id": "P9Tb-hWezoiV"
      }
    },
    {
      "cell_type": "code",
      "source": [
        "from google.colab import drive\n",
        "drive.mount('/content/drive')"
      ],
      "metadata": {
        "id": "Ae0VzT63hwO3"
      },
      "execution_count": null,
      "outputs": []
    },
    {
      "cell_type": "code",
      "source": [
        "#import library\n",
        "import pandas as pd\n",
        "import numpy as np"
      ],
      "metadata": {
        "id": "_Zc1oxDv2aII"
      },
      "execution_count": null,
      "outputs": []
    },
    {
      "cell_type": "markdown",
      "source": [
        "Check missing data and fill-in the data"
      ],
      "metadata": {
        "id": "slQUg-lFkvoE"
      }
    },
    {
      "cell_type": "code",
      "source": [
        "#data\n",
        "#https://www.kaggle.com/datasets/dansbecker/melbourne-housing-snapshot?select=melb_data.csv\n",
        "\n",
        "df = pd.read_csv('/content/drive/MyDrive/AIMST/GIP Training/melb_data.csv') # replace with your file\n",
        "df.isna().sum() #check missing value\n",
        "\n",
        "#fill in the missing value\n",
        "from sklearn.impute import SimpleImputer\n",
        "numeric_df = df.select_dtypes(include=np.number) #only select numeric column\n",
        "imputer = SimpleImputer(fill_value=np.nan, strategy='mean') #fill in the missing value with mean data\n",
        "X = imputer.fit_transform(numeric_df)\n",
        "\n",
        "#display the fill in data\n",
        "X = pd.DataFrame(X, columns=numeric_df.columns)\n",
        "print(X)"
      ],
      "metadata": {
        "id": "_ELEqmGw0oGT"
      },
      "execution_count": null,
      "outputs": []
    },
    {
      "cell_type": "markdown",
      "source": [
        "Drop column and normalize data"
      ],
      "metadata": {
        "id": "yfguTVevknYm"
      }
    },
    {
      "cell_type": "code",
      "source": [
        "df = pd.read_csv('/content/sample_data/california_housing_test.csv')\n",
        "\n",
        "# Drop row at index 0\n",
        "df_dropped_row = df.drop(0)\n",
        "print(df_dropped_row)\n",
        "\n",
        "# Drop column 'longitude'\n",
        "df_dropped_column = df.drop('longitude', axis=1)\n",
        "print(df_dropped_column)"
      ],
      "metadata": {
        "id": "G7dRxoSF2UZv"
      },
      "execution_count": null,
      "outputs": []
    },
    {
      "cell_type": "code",
      "source": [
        "#normalize using standard scalar\n",
        "from sklearn.preprocessing import StandardScaler\n",
        "\n",
        "scaler = StandardScaler()\n",
        "df_scaled = scaler.fit_transform(df)\n",
        "print(df_scaled)"
      ],
      "metadata": {
        "id": "yNzWK51i3XC4"
      },
      "execution_count": null,
      "outputs": []
    },
    {
      "cell_type": "code",
      "source": [
        "#normalize using normalizer\n",
        "from sklearn.preprocessing import Normalizer\n",
        "\n",
        "scaler = Normalizer()\n",
        "df_scaled = scaler.fit_transform(df)\n",
        "print(df_scaled)"
      ],
      "metadata": {
        "id": "SgCTFJ4j3tfT"
      },
      "execution_count": null,
      "outputs": []
    }
  ]
}