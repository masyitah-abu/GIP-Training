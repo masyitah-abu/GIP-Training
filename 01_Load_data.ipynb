{
  "nbformat": 4,
  "nbformat_minor": 0,
  "metadata": {
    "colab": {
      "provenance": [],
      "authorship_tag": "ABX9TyNZXE4+v5LFBqwY2gr9EtYy",
      "include_colab_link": true
    },
    "kernelspec": {
      "name": "python3",
      "display_name": "Python 3"
    },
    "language_info": {
      "name": "python"
    }
  },
  "cells": [
    {
      "cell_type": "markdown",
      "metadata": {
        "id": "view-in-github",
        "colab_type": "text"
      },
      "source": [
        "<a href=\"https://colab.research.google.com/github/masyitah-abu/GIP-Training/blob/main/01_Load_data.ipynb\" target=\"_parent\"><img src=\"https://colab.research.google.com/assets/colab-badge.svg\" alt=\"Open In Colab\"/></a>"
      ]
    },
    {
      "cell_type": "markdown",
      "source": [
        "#There are several function can be create to load data\n",
        "- Manual function\n",
        "- loadtxt function\n",
        "- genfromtxt function\n",
        "- read_csv function\n",
        "- Pickle\n",
        "\n",
        "https://www.kdnuggets.com/2020/08/5-different-ways-load-data-python.html"
      ],
      "metadata": {
        "id": "7cDl8hKkudUD"
      }
    },
    {
      "cell_type": "code",
      "source": [
        "from google.colab import drive\n",
        "drive.mount('/content/drive')"
      ],
      "metadata": {
        "id": "r_q3uMCiyyt2"
      },
      "execution_count": null,
      "outputs": []
    },
    {
      "cell_type": "code",
      "source": [
        "#import library for load data\n",
        "import numpy as np\n",
        "import pandas as pd\n",
        "import pickle"
      ],
      "metadata": {
        "id": "Z8drYrhZuwII"
      },
      "execution_count": null,
      "outputs": []
    },
    {
      "cell_type": "code",
      "source": [
        "#manual function\n",
        "def load_csv(filepath):\n",
        "  data = []\n",
        "  col = []\n",
        "  checkcol = False\n",
        "  with open(filepath) as f:\n",
        "    for val in f.readlines():\n",
        "      val = val.replace('\\n','')\n",
        "      val = val.split(',')\n",
        "      if checkcol is False:\n",
        "        col = val\n",
        "        checkcol = True\n",
        "      else:\n",
        "        data.append(val)\n",
        "  df = pd.DataFrame(data=data,columns=col)\n",
        "  return df\n",
        "\n",
        "#Call function\n",
        "myData = load_csv('/content/sample_data/california_housing_train.csv')\n",
        "print(myData.head)"
      ],
      "metadata": {
        "id": "41R4BEFxu5v6"
      },
      "execution_count": null,
      "outputs": []
    },
    {
      "cell_type": "code",
      "source": [
        "#loadtxt function\n",
        "df = np.loadtxt('/content/sample_data/california_housing_train.csv',delimiter=',',skiprows=1)\n",
        "print(df[:5,:])"
      ],
      "metadata": {
        "id": "ZLqD2MMtv2DA"
      },
      "execution_count": null,
      "outputs": []
    },
    {
      "cell_type": "code",
      "source": [
        "#numpy.genfromtxt function\n",
        "\n",
        "data = np.genfromtxt('/content/sample_data/california_housing_train.csv',delimiter=',')\n",
        "#dtype=None (set so this function call string)\n",
        "#names=True, (add header)\n",
        "#encoding='utf-8' (convert string format from byte to binary)\n",
        "print(data)"
      ],
      "metadata": {
        "id": "4Zb1Mh5fwGnJ"
      },
      "execution_count": null,
      "outputs": []
    },
    {
      "cell_type": "code",
      "source": [
        "#pandas.read_csv\n",
        "pdDf = pd.read_csv('/content/sample_data/california_housing_train.csv')\n",
        "print(pdDf.head())"
      ],
      "metadata": {
        "id": "u7lfCs15w3a4"
      },
      "execution_count": null,
      "outputs": []
    },
    {
      "cell_type": "code",
      "source": [
        "# Pickle can only load pickled files, not CSV files directly.\n",
        "# Assuming you want to pickle the pandas DataFrame 'pdDf' and then load it:\n",
        "# Usually use for databased process\n",
        "\n",
        "# Pickle the DataFrame\n",
        "with open('california_housing_train.pkl', 'wb') as f:\n",
        "  pickle.dump(pdDf, f)\n",
        "\n",
        "# Load the pickled DataFrame\n",
        "with open('california_housing_train.pkl', 'rb') as f:\n",
        "  loaded_df = pickle.load(f)\n",
        "\n",
        "print(loaded_df.head())"
      ],
      "metadata": {
        "id": "KzqXghfHxCzG"
      },
      "execution_count": null,
      "outputs": []
    }
  ]
}