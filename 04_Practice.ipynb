{
  "nbformat": 4,
  "nbformat_minor": 0,
  "metadata": {
    "colab": {
      "provenance": [],
      "authorship_tag": "ABX9TyOPWCqGXMvI63Acdyb48fCs",
      "include_colab_link": true
    },
    "kernelspec": {
      "name": "python3",
      "display_name": "Python 3"
    },
    "language_info": {
      "name": "python"
    }
  },
  "cells": [
    {
      "cell_type": "markdown",
      "metadata": {
        "id": "view-in-github",
        "colab_type": "text"
      },
      "source": [
        "<a href=\"https://colab.research.google.com/github/masyitah-abu/GIP-Training/blob/main/04_Practice.ipynb\" target=\"_parent\"><img src=\"https://colab.research.google.com/assets/colab-badge.svg\" alt=\"Open In Colab\"/></a>"
      ]
    },
    {
      "cell_type": "markdown",
      "source": [
        "Analysis household electric power consumption with monthly and hourly data\n",
        "- You can use read_csv to call text file but some value will missing.\n",
        "- There are 4 sub_metering_remainder in the household. The 4 sub_metering_remainder can be calculated using equation below:\n",
        "- `sub_metering_remainder = (global_active_power * 1000 / 60) - (sub_metering_1 + sub_metering_2 + sub_metering_3)`\n",
        "- Follow the step given in code block"
      ],
      "metadata": {
        "id": "N2ZNePKbfN04"
      }
    },
    {
      "cell_type": "code",
      "execution_count": null,
      "metadata": {
        "id": "wlh3yqfRJE-0"
      },
      "outputs": [],
      "source": [
        "#Import library\n",
        "#replace the missing value\n",
        "#calculate the sub_metering_4\n",
        "#save the update data inside the household_power_consumption.csv"
      ]
    },
    {
      "cell_type": "code",
      "source": [
        "#Check if normalization process is required for this dataset"
      ],
      "metadata": {
        "id": "jsgMrj_KfpT0"
      },
      "execution_count": null,
      "outputs": []
    },
    {
      "cell_type": "code",
      "source": [
        "#Analyse and virsualize the sub_metering 1,2,3 and 4\n",
        "#Line Plots of Active Power for Most Years\n",
        "#Line Plots for Active Power for All Months in One Year\n",
        "#Line Plots for Active Power for 20 Days in One Month"
      ],
      "metadata": {
        "id": "rS_DWfpMfryU"
      },
      "execution_count": null,
      "outputs": []
    },
    {
      "cell_type": "markdown",
      "source": [
        "Reference\n",
        "- https://www.kaggle.com/code/nisgou/analysis-with-monthly-and-hourly-data\n",
        "- https://www.kaggle.com/datasets/uciml/electric-power-consumption-data-set/data\n",
        "- https://machinelearningmastery.com/how-to-load-and-explore-household-electricity-usage-data/"
      ],
      "metadata": {
        "id": "zQ0FobMFfZL2"
      }
    }
  ]
}