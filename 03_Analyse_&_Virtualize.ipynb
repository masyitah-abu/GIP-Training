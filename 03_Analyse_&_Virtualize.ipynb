{
  "nbformat": 4,
  "nbformat_minor": 0,
  "metadata": {
    "colab": {
      "provenance": [],
      "authorship_tag": "ABX9TyPgnnkWpJ6HsKepcStqvSnz",
      "include_colab_link": true
    },
    "kernelspec": {
      "name": "python3",
      "display_name": "Python 3"
    },
    "language_info": {
      "name": "python"
    }
  },
  "cells": [
    {
      "cell_type": "markdown",
      "metadata": {
        "id": "view-in-github",
        "colab_type": "text"
      },
      "source": [
        "<a href=\"https://colab.research.google.com/github/masyitah-abu/GIP-Training/blob/main/03_Analyse_%26_Virtualize.ipynb\" target=\"_parent\"><img src=\"https://colab.research.google.com/assets/colab-badge.svg\" alt=\"Open In Colab\"/></a>"
      ]
    },
    {
      "cell_type": "code",
      "source": [
        "from google.colab import drive\n",
        "drive.mount('/content/drive')"
      ],
      "metadata": {
        "id": "fWQTeONulNEL"
      },
      "execution_count": null,
      "outputs": []
    },
    {
      "cell_type": "markdown",
      "source": [
        "Analyse"
      ],
      "metadata": {
        "id": "2SbQBginC880"
      }
    },
    {
      "cell_type": "code",
      "execution_count": null,
      "metadata": {
        "id": "RU6YxfYH39wC"
      },
      "outputs": [],
      "source": [
        "#extract data by column\n",
        "import pandas as pd\n",
        "\n",
        "df = pd.read_csv('/content/drive/MyDrive/AIMST/GIP Training/tips.csv')\n",
        "\n",
        "print(df.head())\n",
        "\n",
        "print(df.loc[:, 'total_bill'])\n",
        "\n",
        "#or\n",
        "\n",
        "print(df.iloc[:, 1])"
      ]
    },
    {
      "cell_type": "code",
      "source": [
        "#extract data by row or single value\n",
        "print(df.at[0, 'total_bill'])\n",
        "\n",
        "#or\n",
        "\n",
        "print(df.iat[0,0])"
      ],
      "metadata": {
        "id": "HQeZB7lw-IJA"
      },
      "execution_count": null,
      "outputs": []
    },
    {
      "cell_type": "markdown",
      "source": [
        "Virtualize using matplotlib"
      ],
      "metadata": {
        "id": "bnqrdYuuDAln"
      }
    },
    {
      "cell_type": "code",
      "source": [
        "#Scatter plot\n",
        "#Data: https://media.geeksforgeeks.org/wp-content/uploads/tips.csv\n",
        "\n",
        "import pandas as pd\n",
        "import matplotlib.pyplot as plt\n",
        "\n",
        "\n",
        "# reading the database\n",
        "data = pd.read_csv(\"/content/drive/MyDrive/AIMST/GIP Training/tips.csv\")\n",
        "\n",
        "# Scatter plot with day against tip\n",
        "plt.scatter(data['day'], data['tip'])\n",
        "\n",
        "# Adding Title to the Plot\n",
        "plt.title(\"Scatter Plot\")\n",
        "\n",
        "# Setting the X and Y labels\n",
        "plt.xlabel('Day')\n",
        "plt.ylabel('Tip')\n",
        "\n",
        "plt.show()"
      ],
      "metadata": {
        "id": "saPwGJatDTi1"
      },
      "execution_count": null,
      "outputs": []
    },
    {
      "cell_type": "code",
      "source": [
        "#line chart\n",
        "import pandas as pd\n",
        "import matplotlib.pyplot as plt\n",
        "\n",
        "\n",
        "# reading the database\n",
        "data = pd.read_csv(\"/content/drive/MyDrive/AIMST/GIP Training/tips.csv\")\n",
        "\n",
        "# Scatter plot with day against tip\n",
        "plt.plot(data['tip'])\n",
        "plt.plot(data['size'])\n",
        "\n",
        "# Adding Title to the Plot\n",
        "plt.title(\"Scatter Plot\")\n",
        "\n",
        "# Setting the X and Y labels\n",
        "plt.xlabel('Day')\n",
        "plt.ylabel('Tip')\n",
        "\n",
        "plt.show()"
      ],
      "metadata": {
        "id": "nSHk0ThYHPdR"
      },
      "execution_count": null,
      "outputs": []
    },
    {
      "cell_type": "code",
      "source": [
        "#Bar chart\n",
        "import pandas as pd\n",
        "import matplotlib.pyplot as plt\n",
        "\n",
        "\n",
        "# reading the database\n",
        "data = pd.read_csv(\"/content/drive/MyDrive/AIMST/GIP Training/tips.csv\")\n",
        "\n",
        "# Bar chart with day against tip\n",
        "plt.bar(data['day'], data['tip'])\n",
        "\n",
        "plt.title(\"Bar Chart\")\n",
        "\n",
        "# Setting the X and Y labels\n",
        "plt.xlabel('Day')\n",
        "plt.ylabel('Tip')\n",
        "\n",
        "# Adding the legends\n",
        "plt.show()"
      ],
      "metadata": {
        "id": "tUQX7Y0-HTLc"
      },
      "execution_count": null,
      "outputs": []
    },
    {
      "cell_type": "code",
      "source": [
        "#Histogram\n",
        "import pandas as pd\n",
        "import matplotlib.pyplot as plt\n",
        "\n",
        "\n",
        "# reading the database\n",
        "data = pd.read_csv(\"/content/drive/MyDrive/AIMST/GIP Training/tips.csv\")\n",
        "\n",
        "# histogram of total_bills\n",
        "plt.hist(data['total_bill'])\n",
        "\n",
        "plt.title(\"Histogram\")\n",
        "\n",
        "# Adding the legends\n",
        "plt.show()"
      ],
      "metadata": {
        "id": "EVQ63cCtHWTY"
      },
      "execution_count": null,
      "outputs": []
    }
  ]
}